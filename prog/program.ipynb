{
 "cells": [
  {
   "cell_type": "markdown",
   "metadata": {},
   "source": [
    "# P3.4 - prezentacja rozwiązania\n",
    "Aleksander Czeszejko-Sochacki\n",
    "<br>\n",
    "Sławomir Górawski"
   ]
  },
  {
   "cell_type": "code",
   "execution_count": 1,
   "metadata": {},
   "outputs": [
    {
     "data": {
      "application/javascript": [
       "IPython.OutputArea.prototype._should_scroll = function(lines) { return false; }\n"
      ]
     },
     "metadata": {},
     "output_type": "display_data"
    }
   ],
   "source": [
    "macro javascript_str(s)\n",
    "    display(\"text/javascript\", s)\n",
    "end\n",
    "\n",
    "javascript\"\"\"\n",
    "IPython.OutputArea.prototype._should_scroll = function(lines) { return false; }\n",
    "\"\"\""
   ]
  },
  {
   "cell_type": "code",
   "execution_count": 2,
   "metadata": {},
   "outputs": [
    {
     "name": "stderr",
     "output_type": "stream",
     "text": [
      "\u001b[1m\u001b[36mINFO: \u001b[39m\u001b[22m\u001b[36mPrecompiling module PyPlot.\n",
      "\u001b[39m"
     ]
    },
    {
     "ename": "LoadError",
     "evalue": "InitError: \u001b[91mPyError (ccall(@pysym(:PyImport_ImportModule), PyPtr, (Cstring,), name)\n\nThe Python package matplotlib.pyplot could not be found by pyimport. Usually this means\nthat you did not install matplotlib.pyplot in the Python version being used by PyCall.\n\nPyCall is currently configured to use the Python version at:\n\npython\n\nand you should use whatever mechanism you usually use (apt-get, pip, conda,\netcetera) to install the Python package containing the matplotlib.pyplot module.\n\nOne alternative is to re-configure PyCall to use a different Python\nversion on your system: set ENV[\"PYTHON\"] to the path/name of the python\nexecutable you want to use, run Pkg.build(\"PyCall\"), and re-launch Julia.\n\nAnother alternative is to configure PyCall to use a Julia-specific Python\ndistribution via the Conda.jl package (which installs a private Anaconda\nPython distribution), which has the advantage that packages can be installed\nand kept up-to-date via Julia.  As explained in the PyCall documentation,\nset ENV[\"PYTHON\"]=\"\", run Pkg.build(\"PyCall\"), and re-launch Julia. Then,\nTo install the matplotlib.pyplot module, you can use `pyimport_conda(\"matplotlib.pyplot\", PKG)`,\nwhere PKG is the Anaconda package the contains the module matplotlib.pyplot,\nor alternatively you can use the Conda package directly (via\n`using Conda` followed by `Conda.add` etcetera).\n\n) <class 'ImportError'>\nImportError(\"/lib/x86_64-linux-gnu/libz.so.1: version `ZLIB_1.2.9' not found (required by /home/pozdrowiony/anaconda3/lib/python3.6/site-packages/matplotlib/../../.././libpng16.so.16)\",)\n  File \"/home/pozdrowiony/anaconda3/lib/python3.6/site-packages/matplotlib/pyplot.py\", line 29, in <module>\n    import matplotlib.colorbar\n  File \"/home/pozdrowiony/anaconda3/lib/python3.6/site-packages/matplotlib/colorbar.py\", line 36, in <module>\n    import matplotlib.contour as contour\n  File \"/home/pozdrowiony/anaconda3/lib/python3.6/site-packages/matplotlib/contour.py\", line 21, in <module>\n    import matplotlib.font_manager as font_manager\n  File \"/home/pozdrowiony/anaconda3/lib/python3.6/site-packages/matplotlib/font_manager.py\", line 58, in <module>\n    from matplotlib import afm, cbook, ft2font, rcParams, get_cachedir\n\u001b[39m\nduring initialization of module PyPlot",
     "output_type": "error",
     "traceback": [
      "InitError: \u001b[91mPyError (ccall(@pysym(:PyImport_ImportModule), PyPtr, (Cstring,), name)\n\nThe Python package matplotlib.pyplot could not be found by pyimport. Usually this means\nthat you did not install matplotlib.pyplot in the Python version being used by PyCall.\n\nPyCall is currently configured to use the Python version at:\n\npython\n\nand you should use whatever mechanism you usually use (apt-get, pip, conda,\netcetera) to install the Python package containing the matplotlib.pyplot module.\n\nOne alternative is to re-configure PyCall to use a different Python\nversion on your system: set ENV[\"PYTHON\"] to the path/name of the python\nexecutable you want to use, run Pkg.build(\"PyCall\"), and re-launch Julia.\n\nAnother alternative is to configure PyCall to use a Julia-specific Python\ndistribution via the Conda.jl package (which installs a private Anaconda\nPython distribution), which has the advantage that packages can be installed\nand kept up-to-date via Julia.  As explained in the PyCall documentation,\nset ENV[\"PYTHON\"]=\"\", run Pkg.build(\"PyCall\"), and re-launch Julia. Then,\nTo install the matplotlib.pyplot module, you can use `pyimport_conda(\"matplotlib.pyplot\", PKG)`,\nwhere PKG is the Anaconda package the contains the module matplotlib.pyplot,\nor alternatively you can use the Conda package directly (via\n`using Conda` followed by `Conda.add` etcetera).\n\n) <class 'ImportError'>\nImportError(\"/lib/x86_64-linux-gnu/libz.so.1: version `ZLIB_1.2.9' not found (required by /home/pozdrowiony/anaconda3/lib/python3.6/site-packages/matplotlib/../../.././libpng16.so.16)\",)\n  File \"/home/pozdrowiony/anaconda3/lib/python3.6/site-packages/matplotlib/pyplot.py\", line 29, in <module>\n    import matplotlib.colorbar\n  File \"/home/pozdrowiony/anaconda3/lib/python3.6/site-packages/matplotlib/colorbar.py\", line 36, in <module>\n    import matplotlib.contour as contour\n  File \"/home/pozdrowiony/anaconda3/lib/python3.6/site-packages/matplotlib/contour.py\", line 21, in <module>\n    import matplotlib.font_manager as font_manager\n  File \"/home/pozdrowiony/anaconda3/lib/python3.6/site-packages/matplotlib/font_manager.py\", line 58, in <module>\n    from matplotlib import afm, cbook, ft2font, rcParams, get_cachedir\n\u001b[39m\nduring initialization of module PyPlot",
      "",
      "Stacktrace:",
      " [1] \u001b[1mpyerr_check\u001b[22m\u001b[22m at \u001b[1m/home/pozdrowiony/.julia/v0.6/PyCall/src/exception.jl:56\u001b[22m\u001b[22m [inlined]",
      " [2] \u001b[1mpyerr_check\u001b[22m\u001b[22m at \u001b[1m/home/pozdrowiony/.julia/v0.6/PyCall/src/exception.jl:61\u001b[22m\u001b[22m [inlined]",
      " [3] \u001b[1mmacro expansion\u001b[22m\u001b[22m at \u001b[1m/home/pozdrowiony/.julia/v0.6/PyCall/src/exception.jl:81\u001b[22m\u001b[22m [inlined]",
      " [4] \u001b[1mpyimport\u001b[22m\u001b[22m\u001b[1m(\u001b[22m\u001b[22m::String\u001b[1m)\u001b[22m\u001b[22m at \u001b[1m/home/pozdrowiony/.julia/v0.6/PyCall/src/PyCall.jl:374\u001b[22m\u001b[22m",
      " [5] \u001b[1m__init__\u001b[22m\u001b[22m\u001b[1m(\u001b[22m\u001b[22m\u001b[1m)\u001b[22m\u001b[22m at \u001b[1m/home/pozdrowiony/.julia/v0.6/PyPlot/src/init.jl:184\u001b[22m\u001b[22m",
      " [6] \u001b[1m_include_from_serialized\u001b[22m\u001b[22m\u001b[1m(\u001b[22m\u001b[22m::String\u001b[1m)\u001b[22m\u001b[22m at \u001b[1m./loading.jl:157\u001b[22m\u001b[22m",
      " [7] \u001b[1m_require_from_serialized\u001b[22m\u001b[22m\u001b[1m(\u001b[22m\u001b[22m::Int64, ::Symbol, ::String, ::Bool\u001b[1m)\u001b[22m\u001b[22m at \u001b[1m./loading.jl:200\u001b[22m\u001b[22m",
      " [8] \u001b[1m_require\u001b[22m\u001b[22m\u001b[1m(\u001b[22m\u001b[22m::Symbol\u001b[1m)\u001b[22m\u001b[22m at \u001b[1m./loading.jl:491\u001b[22m\u001b[22m",
      " [9] \u001b[1mrequire\u001b[22m\u001b[22m\u001b[1m(\u001b[22m\u001b[22m::Symbol\u001b[1m)\u001b[22m\u001b[22m at \u001b[1m./loading.jl:398\u001b[22m\u001b[22m",
      " [10] \u001b[1minclude_string\u001b[22m\u001b[22m\u001b[1m(\u001b[22m\u001b[22m::String, ::String\u001b[1m)\u001b[22m\u001b[22m at \u001b[1m./loading.jl:515\u001b[22m\u001b[22m"
     ]
    }
   ],
   "source": [
    "using Images\n",
    "using TestImages\n",
    "using PyPlot\n",
    "\n",
    "include(\"program.jl\");"
   ]
  },
  {
   "cell_type": "markdown",
   "metadata": {},
   "source": [
    "---\n",
    "## Testy"
   ]
  },
  {
   "cell_type": "code",
   "execution_count": 3,
   "metadata": {},
   "outputs": [],
   "source": [
    "function show_grayscale_image(img::Matrix, name::String,\n",
    "                              resolution::Tuple{Int, Int})\n",
    "    imshow(img, cmap=\"gray\")\n",
    "    title(ucfirst(name))\n",
    "    xlabel(\"$resolution\")\n",
    "    \n",
    "    # Redundant tickmarks and labels removal\n",
    "    setp(gca()[:get_xticklabels](), visible=false)\n",
    "    setp(gca()[:get_xaxis](), ticks=[])\n",
    "    setp(gca()[:get_yaxis](), visible=false)\n",
    "end;"
   ]
  },
  {
   "cell_type": "code",
   "execution_count": 4,
   "metadata": {},
   "outputs": [],
   "source": [
    "function test_and_plot_results(img::Matrix, new_x::Int, new_y::Int)\n",
    "    # Casting image to raw matrix of floats\n",
    "    raw_img = Float64.(img)\n",
    "    \n",
    "    for (first_orientation, orientation_name) in\n",
    "            zip([horizontal, vertical], [\"horizontal\", \"vertical\"])\n",
    "        \n",
    "        # Plot setup\n",
    "        figure(figsize=(10, 10))\n",
    "        suptitle(\"$(ucfirst(orientation_name))-first methods comparison\",\n",
    "                 fontweight=\"bold\", fontsize=20)\n",
    "        \n",
    "        # Original image presentation\n",
    "        subplot(2, 2, 1)\n",
    "        show_grayscale_image(raw_img, \"original image\", size(raw_img))\n",
    "        \n",
    "        for (i, (method, method_name)) in \n",
    "                enumerate(zip([nearest_neighbours, linear_spline, cubic_spline],\n",
    "                [\"nearest neighbours\", \"linear spline\", \"cubic spline\"]))\n",
    "            resized_img = resize(raw_img, new_x, new_y, method, horizontal)\n",
    "            \n",
    "            # Resized image presentation\n",
    "            subplot(2, 2, i + 1)\n",
    "            show_grayscale_image(resized_img, method_name, (new_x, new_y))\n",
    "        end\n",
    "        tight_layout(rect=[0, 0.03, 1, 0.93])\n",
    "    end\n",
    "end;"
   ]
  },
  {
   "cell_type": "markdown",
   "metadata": {},
   "source": [
    "---\n",
    "## Przykłady"
   ]
  },
  {
   "cell_type": "code",
   "execution_count": null,
   "metadata": {},
   "outputs": [
    {
     "name": "stderr",
     "output_type": "stream",
     "text": [
      "Error encountered while loading \"/home/pozdrowiony/.julia/v0.6/TestImages/images/cameraman.tif\".\n",
      "Fatal error:\n"
     ]
    },
    {
     "name": "stdout",
     "output_type": "stream",
     "text": [
      "Library \"ImageMagick\" is not installed but is recommended as a library to load format: \".tif\"\n",
      "Should we install \"ImageMagick\" for you? (y/n):\n"
     ]
    }
   ],
   "source": [
    "img = testimage(\"cameraman\")\n",
    "# Cameraman default resolution is 512x512\n",
    "img = imresize(img, (100, 100))\n",
    "test_and_plot_results(img, 400, 400)"
   ]
  }
 ],
 "metadata": {
  "kernelspec": {
   "display_name": "Julia 0.6.0",
   "language": "julia",
   "name": "julia-0.6"
  },
  "language_info": {
   "file_extension": ".jl",
   "mimetype": "application/julia",
   "name": "julia",
   "version": "0.6.0"
  }
 },
 "nbformat": 4,
 "nbformat_minor": 2
}
